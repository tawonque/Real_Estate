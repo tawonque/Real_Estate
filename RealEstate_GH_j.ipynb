{
 "cells": [
  {
   "cell_type": "markdown",
   "metadata": {},
   "source": [
    "# Real Estate competition - Kaggle\n",
    "## We will focus on a random forest model, and a few variations\n",
    "\n",
    "### Let's start by importing the necessary modules"
   ]
  },
  {
   "cell_type": "code",
   "execution_count": 1,
   "metadata": {
    "collapsed": false,
    "scrolled": true
   },
   "outputs": [
    {
     "name": "stderr",
     "output_type": "stream",
     "text": [
      "/Users/Tavo/anaconda3/lib/python3.5/site-packages/sklearn/cross_validation.py:44: DeprecationWarning: This module was deprecated in version 0.18 in favor of the model_selection module into which all the refactored classes and functions are moved. Also note that the interface of the new CV iterators are different from that of this module. This module will be removed in 0.20.\n",
      "  \"This module will be removed in 0.20.\", DeprecationWarning)\n",
      "/Users/Tavo/anaconda3/lib/python3.5/site-packages/sklearn/grid_search.py:43: DeprecationWarning: This module was deprecated in version 0.18 in favor of the model_selection module into which all the refactored classes and functions are moved. This module will be removed in 0.20.\n",
      "  DeprecationWarning)\n"
     ]
    }
   ],
   "source": [
    "import os\n",
    "import numpy as np\n",
    "import pandas as pd\n",
    "from scipy.stats import kendalltau\n",
    "\n",
    "import sklearn.linear_model as lm\n",
    "import sklearn.cross_validation as cv\n",
    "import sklearn.preprocessing as pp\n",
    "from  sklearn import metrics, tree, grid_search\n",
    "from sklearn.metrics import confusion_matrix\n",
    "from sklearn.ensemble import RandomForestRegressor, BaggingRegressor, ExtraTreesRegressor, AdaBoostRegressor, GradientBoostingRegressor \n",
    "\n",
    "import seaborn as sns\n",
    "import matplotlib.pyplot as plt\n",
    "\n",
    "%matplotlib inline"
   ]
  },
  {
   "cell_type": "code",
   "execution_count": 2,
   "metadata": {
    "collapsed": false
   },
   "outputs": [
    {
     "data": {
      "text/plain": [
       "'/Users/Tavo/Data_science'"
      ]
     },
     "execution_count": 2,
     "metadata": {},
     "output_type": "execute_result"
    }
   ],
   "source": [
    "os.getcwd()"
   ]
  },
  {
   "cell_type": "markdown",
   "metadata": {},
   "source": [
    "### We read the files..."
   ]
  },
  {
   "cell_type": "code",
   "execution_count": 3,
   "metadata": {
    "collapsed": false
   },
   "outputs": [],
   "source": [
    "realestate = pd.read_csv('RealEstate/train.csv')\n",
    "realestate_test = pd.read_csv('RealEstate/test.csv')\n",
    "\n",
    "data_description = open('RealEstate/data_description.txt', 'r')\n",
    "#print (data_description.read())"
   ]
  },
  {
   "cell_type": "markdown",
   "metadata": {},
   "source": [
    "### Let's examine the columns and get rid of colums (1) with all null values (2) too few values"
   ]
  },
  {
   "cell_type": "code",
   "execution_count": 4,
   "metadata": {
    "collapsed": false
   },
   "outputs": [
    {
     "name": "stdout",
     "output_type": "stream",
     "text": [
      "<class 'pandas.core.frame.DataFrame'>\n",
      "RangeIndex: 1460 entries, 0 to 1459\n",
      "Data columns (total 81 columns):\n",
      "Id               1460 non-null int64\n",
      "MSSubClass       1460 non-null int64\n",
      "MSZoning         1460 non-null object\n",
      "LotFrontage      1201 non-null float64\n",
      "LotArea          1460 non-null int64\n",
      "Street           1460 non-null object\n",
      "Alley            91 non-null object\n",
      "LotShape         1460 non-null object\n",
      "LandContour      1460 non-null object\n",
      "Utilities        1460 non-null object\n",
      "LotConfig        1460 non-null object\n",
      "LandSlope        1460 non-null object\n",
      "Neighborhood     1460 non-null object\n",
      "Condition1       1460 non-null object\n",
      "Condition2       1460 non-null object\n",
      "BldgType         1460 non-null object\n",
      "HouseStyle       1460 non-null object\n",
      "OverallQual      1460 non-null int64\n",
      "OverallCond      1460 non-null int64\n",
      "YearBuilt        1460 non-null int64\n",
      "YearRemodAdd     1460 non-null int64\n",
      "RoofStyle        1460 non-null object\n",
      "RoofMatl         1460 non-null object\n",
      "Exterior1st      1460 non-null object\n",
      "Exterior2nd      1460 non-null object\n",
      "MasVnrType       1452 non-null object\n",
      "MasVnrArea       1452 non-null float64\n",
      "ExterQual        1460 non-null object\n",
      "ExterCond        1460 non-null object\n",
      "Foundation       1460 non-null object\n",
      "BsmtQual         1423 non-null object\n",
      "BsmtCond         1423 non-null object\n",
      "BsmtExposure     1422 non-null object\n",
      "BsmtFinType1     1423 non-null object\n",
      "BsmtFinSF1       1460 non-null int64\n",
      "BsmtFinType2     1422 non-null object\n",
      "BsmtFinSF2       1460 non-null int64\n",
      "BsmtUnfSF        1460 non-null int64\n",
      "TotalBsmtSF      1460 non-null int64\n",
      "Heating          1460 non-null object\n",
      "HeatingQC        1460 non-null object\n",
      "CentralAir       1460 non-null object\n",
      "Electrical       1459 non-null object\n",
      "1stFlrSF         1460 non-null int64\n",
      "2ndFlrSF         1460 non-null int64\n",
      "LowQualFinSF     1460 non-null int64\n",
      "GrLivArea        1460 non-null int64\n",
      "BsmtFullBath     1460 non-null int64\n",
      "BsmtHalfBath     1460 non-null int64\n",
      "FullBath         1460 non-null int64\n",
      "HalfBath         1460 non-null int64\n",
      "BedroomAbvGr     1460 non-null int64\n",
      "KitchenAbvGr     1460 non-null int64\n",
      "KitchenQual      1460 non-null object\n",
      "TotRmsAbvGrd     1460 non-null int64\n",
      "Functional       1460 non-null object\n",
      "Fireplaces       1460 non-null int64\n",
      "FireplaceQu      770 non-null object\n",
      "GarageType       1379 non-null object\n",
      "GarageYrBlt      1379 non-null float64\n",
      "GarageFinish     1379 non-null object\n",
      "GarageCars       1460 non-null int64\n",
      "GarageArea       1460 non-null int64\n",
      "GarageQual       1379 non-null object\n",
      "GarageCond       1379 non-null object\n",
      "PavedDrive       1460 non-null object\n",
      "WoodDeckSF       1460 non-null int64\n",
      "OpenPorchSF      1460 non-null int64\n",
      "EnclosedPorch    1460 non-null int64\n",
      "3SsnPorch        1460 non-null int64\n",
      "ScreenPorch      1460 non-null int64\n",
      "PoolArea         1460 non-null int64\n",
      "PoolQC           7 non-null object\n",
      "Fence            281 non-null object\n",
      "MiscFeature      54 non-null object\n",
      "MiscVal          1460 non-null int64\n",
      "MoSold           1460 non-null int64\n",
      "YrSold           1460 non-null int64\n",
      "SaleType         1460 non-null object\n",
      "SaleCondition    1460 non-null object\n",
      "SalePrice        1460 non-null int64\n",
      "dtypes: float64(3), int64(35), object(43)\n",
      "memory usage: 924.0+ KB\n",
      "<class 'pandas.core.frame.DataFrame'>\n",
      "RangeIndex: 1459 entries, 0 to 1458\n",
      "Data columns (total 80 columns):\n",
      "Id               1459 non-null int64\n",
      "MSSubClass       1459 non-null int64\n",
      "MSZoning         1455 non-null object\n",
      "LotFrontage      1232 non-null float64\n",
      "LotArea          1459 non-null int64\n",
      "Street           1459 non-null object\n",
      "Alley            107 non-null object\n",
      "LotShape         1459 non-null object\n",
      "LandContour      1459 non-null object\n",
      "Utilities        1457 non-null object\n",
      "LotConfig        1459 non-null object\n",
      "LandSlope        1459 non-null object\n",
      "Neighborhood     1459 non-null object\n",
      "Condition1       1459 non-null object\n",
      "Condition2       1459 non-null object\n",
      "BldgType         1459 non-null object\n",
      "HouseStyle       1459 non-null object\n",
      "OverallQual      1459 non-null int64\n",
      "OverallCond      1459 non-null int64\n",
      "YearBuilt        1459 non-null int64\n",
      "YearRemodAdd     1459 non-null int64\n",
      "RoofStyle        1459 non-null object\n",
      "RoofMatl         1459 non-null object\n",
      "Exterior1st      1458 non-null object\n",
      "Exterior2nd      1458 non-null object\n",
      "MasVnrType       1443 non-null object\n",
      "MasVnrArea       1444 non-null float64\n",
      "ExterQual        1459 non-null object\n",
      "ExterCond        1459 non-null object\n",
      "Foundation       1459 non-null object\n",
      "BsmtQual         1415 non-null object\n",
      "BsmtCond         1414 non-null object\n",
      "BsmtExposure     1415 non-null object\n",
      "BsmtFinType1     1417 non-null object\n",
      "BsmtFinSF1       1458 non-null float64\n",
      "BsmtFinType2     1417 non-null object\n",
      "BsmtFinSF2       1458 non-null float64\n",
      "BsmtUnfSF        1458 non-null float64\n",
      "TotalBsmtSF      1458 non-null float64\n",
      "Heating          1459 non-null object\n",
      "HeatingQC        1459 non-null object\n",
      "CentralAir       1459 non-null object\n",
      "Electrical       1459 non-null object\n",
      "1stFlrSF         1459 non-null int64\n",
      "2ndFlrSF         1459 non-null int64\n",
      "LowQualFinSF     1459 non-null int64\n",
      "GrLivArea        1459 non-null int64\n",
      "BsmtFullBath     1457 non-null float64\n",
      "BsmtHalfBath     1457 non-null float64\n",
      "FullBath         1459 non-null int64\n",
      "HalfBath         1459 non-null int64\n",
      "BedroomAbvGr     1459 non-null int64\n",
      "KitchenAbvGr     1459 non-null int64\n",
      "KitchenQual      1458 non-null object\n",
      "TotRmsAbvGrd     1459 non-null int64\n",
      "Functional       1457 non-null object\n",
      "Fireplaces       1459 non-null int64\n",
      "FireplaceQu      729 non-null object\n",
      "GarageType       1383 non-null object\n",
      "GarageYrBlt      1381 non-null float64\n",
      "GarageFinish     1381 non-null object\n",
      "GarageCars       1458 non-null float64\n",
      "GarageArea       1458 non-null float64\n",
      "GarageQual       1381 non-null object\n",
      "GarageCond       1381 non-null object\n",
      "PavedDrive       1459 non-null object\n",
      "WoodDeckSF       1459 non-null int64\n",
      "OpenPorchSF      1459 non-null int64\n",
      "EnclosedPorch    1459 non-null int64\n",
      "3SsnPorch        1459 non-null int64\n",
      "ScreenPorch      1459 non-null int64\n",
      "PoolArea         1459 non-null int64\n",
      "PoolQC           3 non-null object\n",
      "Fence            290 non-null object\n",
      "MiscFeature      51 non-null object\n",
      "MiscVal          1459 non-null int64\n",
      "MoSold           1459 non-null int64\n",
      "YrSold           1459 non-null int64\n",
      "SaleType         1458 non-null object\n",
      "SaleCondition    1459 non-null object\n",
      "dtypes: float64(11), int64(26), object(43)\n",
      "memory usage: 912.0+ KB\n"
     ]
    }
   ],
   "source": [
    "realestate.info()\n",
    "realestate_test.info()\n",
    "\n",
    "realestate = realestate.dropna(how='all')\n",
    "realestate_test = realestate_test.dropna(how='all')\n",
    "\n",
    "\n",
    "#columns withe very few values\n",
    "few_values = ['Alley', 'PoolQC', 'MiscFeature']\n",
    "realestate = realestate.drop(few_values, axis=1)\n",
    "realestate_test = realestate_test.drop(few_values, axis=1)"
   ]
  },
  {
   "cell_type": "code",
   "execution_count": 5,
   "metadata": {
    "collapsed": false
   },
   "outputs": [
    {
     "name": "stdout",
     "output_type": "stream",
     "text": [
      "<class 'pandas.core.frame.DataFrame'>\n",
      "Int64Index: 1460 entries, 0 to 1459\n",
      "Data columns (total 78 columns):\n",
      "Id               1460 non-null int64\n",
      "MSSubClass       1460 non-null int64\n",
      "MSZoning         1460 non-null object\n",
      "LotFrontage      1201 non-null float64\n",
      "LotArea          1460 non-null int64\n",
      "Street           1460 non-null object\n",
      "LotShape         1460 non-null object\n",
      "LandContour      1460 non-null object\n",
      "Utilities        1460 non-null object\n",
      "LotConfig        1460 non-null object\n",
      "LandSlope        1460 non-null object\n",
      "Neighborhood     1460 non-null object\n",
      "Condition1       1460 non-null object\n",
      "Condition2       1460 non-null object\n",
      "BldgType         1460 non-null object\n",
      "HouseStyle       1460 non-null object\n",
      "OverallQual      1460 non-null int64\n",
      "OverallCond      1460 non-null int64\n",
      "YearBuilt        1460 non-null int64\n",
      "YearRemodAdd     1460 non-null int64\n",
      "RoofStyle        1460 non-null object\n",
      "RoofMatl         1460 non-null object\n",
      "Exterior1st      1460 non-null object\n",
      "Exterior2nd      1460 non-null object\n",
      "MasVnrType       1452 non-null object\n",
      "MasVnrArea       1452 non-null float64\n",
      "ExterQual        1460 non-null object\n",
      "ExterCond        1460 non-null object\n",
      "Foundation       1460 non-null object\n",
      "BsmtQual         1423 non-null object\n",
      "BsmtCond         1423 non-null object\n",
      "BsmtExposure     1422 non-null object\n",
      "BsmtFinType1     1423 non-null object\n",
      "BsmtFinSF1       1460 non-null int64\n",
      "BsmtFinType2     1422 non-null object\n",
      "BsmtFinSF2       1460 non-null int64\n",
      "BsmtUnfSF        1460 non-null int64\n",
      "TotalBsmtSF      1460 non-null int64\n",
      "Heating          1460 non-null object\n",
      "HeatingQC        1460 non-null object\n",
      "CentralAir       1460 non-null object\n",
      "Electrical       1459 non-null object\n",
      "1stFlrSF         1460 non-null int64\n",
      "2ndFlrSF         1460 non-null int64\n",
      "LowQualFinSF     1460 non-null int64\n",
      "GrLivArea        1460 non-null int64\n",
      "BsmtFullBath     1460 non-null int64\n",
      "BsmtHalfBath     1460 non-null int64\n",
      "FullBath         1460 non-null int64\n",
      "HalfBath         1460 non-null int64\n",
      "BedroomAbvGr     1460 non-null int64\n",
      "KitchenAbvGr     1460 non-null int64\n",
      "KitchenQual      1460 non-null object\n",
      "TotRmsAbvGrd     1460 non-null int64\n",
      "Functional       1460 non-null object\n",
      "Fireplaces       1460 non-null int64\n",
      "FireplaceQu      770 non-null object\n",
      "GarageType       1379 non-null object\n",
      "GarageYrBlt      1379 non-null float64\n",
      "GarageFinish     1379 non-null object\n",
      "GarageCars       1460 non-null int64\n",
      "GarageArea       1460 non-null int64\n",
      "GarageQual       1379 non-null object\n",
      "GarageCond       1379 non-null object\n",
      "PavedDrive       1460 non-null object\n",
      "WoodDeckSF       1460 non-null int64\n",
      "OpenPorchSF      1460 non-null int64\n",
      "EnclosedPorch    1460 non-null int64\n",
      "3SsnPorch        1460 non-null int64\n",
      "ScreenPorch      1460 non-null int64\n",
      "PoolArea         1460 non-null int64\n",
      "Fence            281 non-null object\n",
      "MiscVal          1460 non-null int64\n",
      "MoSold           1460 non-null int64\n",
      "YrSold           1460 non-null int64\n",
      "SaleType         1460 non-null object\n",
      "SaleCondition    1460 non-null object\n",
      "SalePrice        1460 non-null int64\n",
      "dtypes: float64(3), int64(35), object(40)\n",
      "memory usage: 901.1+ KB\n",
      "None (1460, 78)\n",
      "<class 'pandas.core.frame.DataFrame'>\n",
      "Int64Index: 1459 entries, 0 to 1458\n",
      "Data columns (total 77 columns):\n",
      "Id               1459 non-null int64\n",
      "MSSubClass       1459 non-null int64\n",
      "MSZoning         1455 non-null object\n",
      "LotFrontage      1232 non-null float64\n",
      "LotArea          1459 non-null int64\n",
      "Street           1459 non-null object\n",
      "LotShape         1459 non-null object\n",
      "LandContour      1459 non-null object\n",
      "Utilities        1457 non-null object\n",
      "LotConfig        1459 non-null object\n",
      "LandSlope        1459 non-null object\n",
      "Neighborhood     1459 non-null object\n",
      "Condition1       1459 non-null object\n",
      "Condition2       1459 non-null object\n",
      "BldgType         1459 non-null object\n",
      "HouseStyle       1459 non-null object\n",
      "OverallQual      1459 non-null int64\n",
      "OverallCond      1459 non-null int64\n",
      "YearBuilt        1459 non-null int64\n",
      "YearRemodAdd     1459 non-null int64\n",
      "RoofStyle        1459 non-null object\n",
      "RoofMatl         1459 non-null object\n",
      "Exterior1st      1458 non-null object\n",
      "Exterior2nd      1458 non-null object\n",
      "MasVnrType       1443 non-null object\n",
      "MasVnrArea       1444 non-null float64\n",
      "ExterQual        1459 non-null object\n",
      "ExterCond        1459 non-null object\n",
      "Foundation       1459 non-null object\n",
      "BsmtQual         1415 non-null object\n",
      "BsmtCond         1414 non-null object\n",
      "BsmtExposure     1415 non-null object\n",
      "BsmtFinType1     1417 non-null object\n",
      "BsmtFinSF1       1458 non-null float64\n",
      "BsmtFinType2     1417 non-null object\n",
      "BsmtFinSF2       1458 non-null float64\n",
      "BsmtUnfSF        1458 non-null float64\n",
      "TotalBsmtSF      1458 non-null float64\n",
      "Heating          1459 non-null object\n",
      "HeatingQC        1459 non-null object\n",
      "CentralAir       1459 non-null object\n",
      "Electrical       1459 non-null object\n",
      "1stFlrSF         1459 non-null int64\n",
      "2ndFlrSF         1459 non-null int64\n",
      "LowQualFinSF     1459 non-null int64\n",
      "GrLivArea        1459 non-null int64\n",
      "BsmtFullBath     1457 non-null float64\n",
      "BsmtHalfBath     1457 non-null float64\n",
      "FullBath         1459 non-null int64\n",
      "HalfBath         1459 non-null int64\n",
      "BedroomAbvGr     1459 non-null int64\n",
      "KitchenAbvGr     1459 non-null int64\n",
      "KitchenQual      1458 non-null object\n",
      "TotRmsAbvGrd     1459 non-null int64\n",
      "Functional       1457 non-null object\n",
      "Fireplaces       1459 non-null int64\n",
      "FireplaceQu      729 non-null object\n",
      "GarageType       1383 non-null object\n",
      "GarageYrBlt      1381 non-null float64\n",
      "GarageFinish     1381 non-null object\n",
      "GarageCars       1458 non-null float64\n",
      "GarageArea       1458 non-null float64\n",
      "GarageQual       1381 non-null object\n",
      "GarageCond       1381 non-null object\n",
      "PavedDrive       1459 non-null object\n",
      "WoodDeckSF       1459 non-null int64\n",
      "OpenPorchSF      1459 non-null int64\n",
      "EnclosedPorch    1459 non-null int64\n",
      "3SsnPorch        1459 non-null int64\n",
      "ScreenPorch      1459 non-null int64\n",
      "PoolArea         1459 non-null int64\n",
      "Fence            290 non-null object\n",
      "MiscVal          1459 non-null int64\n",
      "MoSold           1459 non-null int64\n",
      "YrSold           1459 non-null int64\n",
      "SaleType         1458 non-null object\n",
      "SaleCondition    1459 non-null object\n",
      "dtypes: float64(11), int64(26), object(40)\n",
      "memory usage: 889.1+ KB\n",
      "None (1459, 77)\n"
     ]
    }
   ],
   "source": [
    "print(realestate.info(), realestate.shape)\n",
    "print(realestate_test.info(), realestate_test.shape)"
   ]
  },
  {
   "cell_type": "markdown",
   "metadata": {},
   "source": [
    "### Let's change the data types of some of the columns too"
   ]
  },
  {
   "cell_type": "code",
   "execution_count": 6,
   "metadata": {
    "collapsed": false
   },
   "outputs": [
    {
     "name": "stdout",
     "output_type": "stream",
     "text": [
      "Done\n"
     ]
    }
   ],
   "source": [
    "#some columns with categorical variables are not 'object'\n",
    "realestate.MSSubClass.astype('object', inplace=True)\n",
    "realestate_test.MSSubClass.astype('object', inplace=True)\n",
    "print('Done')"
   ]
  },
  {
   "cell_type": "markdown",
   "metadata": {},
   "source": [
    "### Some columns could actually be treated as quantitative variables instead of categorical. \n",
    "#### Not strictly necessary, but I wanted to try this little challenge. As you can see I had some issues with in-string variable replacement, so I found a practical solution\n"
   ]
  },
  {
   "cell_type": "code",
   "execution_count": 7,
   "metadata": {
    "collapsed": true
   },
   "outputs": [],
   "source": [
    "#some columns could be treated as quantitative variables\n",
    "def change_scale(legend, scale, column_to_replace):\n",
    "    j = 0\n",
    "    for i in legend:\n",
    "        command = column_to_replace + '.replace(to_replace=\"' + i + '\"' + ', value=' + scale[j].astype('str') + ', inplace=True)'\n",
    "        #print(command)        \n",
    "        exec(command)\n",
    "        j += 1\n",
    "        if j == len(scale):\n",
    "            break\n",
    "    return \n",
    "\n",
    "legend = ['Ex', 'Gd', 'TA', 'Fa', 'Po']\n",
    "scale = np.arange(5,0,-1)\n",
    "column_to_replace = 'realestate.HeatingQC'\n",
    "change_scale(legend, scale, column_to_replace)\n",
    "change_scale(legend, scale, 'realestate_test.HeatingQC')\n",
    "\n",
    "legend = ['Ex', 'Gd', 'TA', 'Fa', 'Po']\n",
    "scale = np.arange(5,0,-1)\n",
    "column_to_replace = 'realestate.KitchenQual'\n",
    "change_scale(legend, scale, column_to_replace)\n",
    "change_scale(legend, scale, 'realestate_test.KitchenQual')"
   ]
  },
  {
   "cell_type": "markdown",
   "metadata": {},
   "source": [
    "### Separation of the categorical and the quantitative variables"
   ]
  },
  {
   "cell_type": "code",
   "execution_count": 8,
   "metadata": {
    "collapsed": true
   },
   "outputs": [],
   "source": [
    "#Let's separate categorical from quantitative variables and make two dataframes\n",
    "#Thanks to the kernel by BreadenFitz-Gerald for the idea\n",
    "\n",
    "df = realestate\n",
    "categorical = []\n",
    "for col in df.columns.values:\n",
    "    if df[col].dtype == 'object':\n",
    "        categorical.append(col)\n",
    "\n",
    "df_category = df[categorical]\n",
    "df_quant = df.drop(categorical, axis=1)\n",
    "\n",
    "df_category_test = realestate_test[categorical]\n",
    "df_quant_test = realestate_test.drop(categorical, axis=1)\n"
   ]
  },
  {
   "cell_type": "markdown",
   "metadata": {},
   "source": [
    "### Correlation coefficients of the quantitative variables\n",
    "#### Particularly useful if we do a linear regression, to avoid multicollinearity. In our case, we will go straight ahead with a random forest, but understanding the correlation between variables can be useful when interpreting the variable importance anyway"
   ]
  },
  {
   "cell_type": "code",
   "execution_count": 9,
   "metadata": {
    "collapsed": false
   },
   "outputs": [
    {
     "data": {
      "image/png": "[encoded data removed]",
      "text/plain": [
       "<matplotlib.figure.Figure at 0x11521afd0>"
      ]
     },
     "metadata": {},
     "output_type": "display_data"
    }
   ],
   "source": [
    "#We can calculate the correlation coefficients among variables and flag those with extremely high values\n",
    "corr = df_quant[df_quant.columns[1:39]].corr()\n",
    "mask = np.zeros_like(corr)\n",
    "mask[np.triu_indices_from(mask)] = True\n",
    "\n",
    "fig = plt.figure(figsize=(20,20))\n",
    "plt.subplot2grid((1,1), (0,0))\n",
    "with sns.axes_style(\"white\"):\n",
    "    ax = sns.heatmap(corr, mask=mask, vmax=.9, square=True, annot=False)"
   ]
  },
  {
   "cell_type": "markdown",
   "metadata": {},
   "source": [
    "### Calculation of the skewness and check for high values that could justify a transformation"
   ]
  },
  {
   "cell_type": "code",
   "execution_count": 10,
   "metadata": {
    "collapsed": false,
    "scrolled": true
   },
   "outputs": [
    {
     "name": "stdout",
     "output_type": "stream",
     "text": [
      "MSSubClass        1.407657\n",
      "LotFrontage       2.163569\n",
      "LotArea          12.207688\n",
      "OverallQual       0.216944\n",
      "OverallCond       0.693067\n",
      "YearBuilt        -0.613461\n",
      "YearRemodAdd     -0.503562\n",
      "MasVnrArea        2.669084\n",
      "BsmtFinSF1        1.685503\n",
      "BsmtFinSF2        4.255261\n",
      "BsmtUnfSF         0.920268\n",
      "TotalBsmtSF       1.524255\n",
      "HeatingQC        -0.540458\n",
      "1stFlrSF          1.376757\n",
      "2ndFlrSF          0.813030\n",
      "LowQualFinSF      9.011341\n",
      "GrLivArea         1.366560\n",
      "BsmtFullBath      0.596067\n",
      "BsmtHalfBath      4.103403\n",
      "FullBath          0.036562\n",
      "HalfBath          0.675897\n",
      "BedroomAbvGr      0.211790\n",
      "KitchenAbvGr      4.488397\n",
      "KitchenQual       0.386765\n",
      "TotRmsAbvGrd      0.676341\n",
      "Fireplaces        0.649565\n",
      "GarageYrBlt      -0.649415\n",
      "GarageCars       -0.342549\n",
      "GarageArea        0.179981\n",
      "WoodDeckSF        1.541376\n",
      "OpenPorchSF       2.364342\n",
      "EnclosedPorch     3.089872\n",
      "3SsnPorch        10.304342\n",
      "ScreenPorch       4.122214\n",
      "PoolArea         14.828374\n",
      "MiscVal          24.476794\n",
      "MoSold            0.212053\n",
      "YrSold            0.096269\n",
      "SalePrice         1.882876\n",
      "dtype: float64\n"
     ]
    }
   ],
   "source": [
    "#We can also calculate the skewness and notice that there are many variables\n",
    "skew = df_quant[df_quant.columns[1:40]].skew()\n",
    "print(skew)"
   ]
  },
  {
   "cell_type": "code",
   "execution_count": 11,
   "metadata": {
    "collapsed": false,
    "scrolled": true
   },
   "outputs": [
    {
     "name": "stdout",
     "output_type": "stream",
     "text": [
      "<class 'pandas.core.frame.DataFrame'>\n",
      "Int64Index: 1460 entries, 0 to 1459\n",
      "Data columns (total 40 columns):\n",
      "Id               1460 non-null int64\n",
      "MSSubClass       1460 non-null int64\n",
      "LotFrontage      1201 non-null float64\n",
      "LotArea          1460 non-null int64\n",
      "OverallQual      1460 non-null int64\n",
      "OverallCond      1460 non-null int64\n",
      "YearBuilt        1460 non-null int64\n",
      "YearRemodAdd     1460 non-null int64\n",
      "MasVnrArea       1452 non-null float64\n",
      "BsmtFinSF1       1460 non-null int64\n",
      "BsmtFinSF2       1460 non-null int64\n",
      "BsmtUnfSF        1460 non-null int64\n",
      "TotalBsmtSF      1460 non-null int64\n",
      "HeatingQC        1460 non-null int64\n",
      "1stFlrSF         1460 non-null int64\n",
      "2ndFlrSF         1460 non-null int64\n",
      "LowQualFinSF     1460 non-null int64\n",
      "GrLivArea        1460 non-null int64\n",
      "BsmtFullBath     1460 non-null int64\n",
      "BsmtHalfBath     1460 non-null int64\n",
      "FullBath         1460 non-null int64\n",
      "HalfBath         1460 non-null int64\n",
      "BedroomAbvGr     1460 non-null int64\n",
      "KitchenAbvGr     1460 non-null int64\n",
      "KitchenQual      1460 non-null int64\n",
      "TotRmsAbvGrd     1460 non-null int64\n",
      "Fireplaces       1460 non-null int64\n",
      "GarageYrBlt      1379 non-null float64\n",
      "GarageCars       1460 non-null int64\n",
      "GarageArea       1460 non-null int64\n",
      "WoodDeckSF       1460 non-null int64\n",
      "OpenPorchSF      1460 non-null int64\n",
      "EnclosedPorch    1460 non-null int64\n",
      "3SsnPorch        1460 non-null int64\n",
      "ScreenPorch      1460 non-null int64\n",
      "PoolArea         1460 non-null int64\n",
      "MiscVal          1460 non-null int64\n",
      "MoSold           1460 non-null int64\n",
      "YrSold           1460 non-null int64\n",
      "SalePrice        1460 non-null int64\n",
      "dtypes: float64(3), int64(37)\n",
      "memory usage: 467.7 KB\n"
     ]
    }
   ],
   "source": [
    "df_quant.info()"
   ]
  },
  {
   "cell_type": "code",
   "execution_count": 12,
   "metadata": {
    "collapsed": false
   },
   "outputs": [],
   "source": [
    "#Function to eliminate columns with more than N null values and substitute null values in the remaining with median:\n",
    "def null_value_treatment(dataframe, thresh_null):\n",
    "    for col in dataframe.columns.values:\n",
    "        if np.sum(dataframe[col].isnull()) > thresh_null:\n",
    "            dataframe.drop(col, axis=1, inplace=True)\n",
    "            print(col)\n",
    "        elif np.sum(dataframe[col].isnull()) > 0:\n",
    "            median = dataframe[col].median()\n",
    "            idx = np.where(dataframe[col].isnull())[0]\n",
    "            dataframe[col].iloc[idx] = median\n",
    "    return\n",
    "\n",
    "#We could do the same operation for the test dataset, but in reality, we want to keep the same number of predictors"
   ]
  },
  {
   "cell_type": "code",
   "execution_count": 13,
   "metadata": {
    "collapsed": false,
    "scrolled": true
   },
   "outputs": [
    {
     "name": "stdout",
     "output_type": "stream",
     "text": [
      "LotFrontage\n"
     ]
    },
    {
     "name": "stderr",
     "output_type": "stream",
     "text": [
      "/Users/Tavo/anaconda3/lib/python3.5/site-packages/pandas/core/indexing.py:140: SettingWithCopyWarning: \n",
      "A value is trying to be set on a copy of a slice from a DataFrame\n",
      "\n",
      "See the caveats in the documentation: http://pandas.pydata.org/pandas-docs/stable/indexing.html#indexing-view-versus-copy\n",
      "  self._setitem_with_indexer(indexer, value)\n"
     ]
    },
    {
     "name": "stdout",
     "output_type": "stream",
     "text": [
      "LotFrontage\n"
     ]
    }
   ],
   "source": [
    "null_value_treatment(df_quant, 150)\n",
    "null_value_treatment(df_quant_test, 150)"
   ]
  },
  {
   "cell_type": "code",
   "execution_count": 14,
   "metadata": {
    "collapsed": false
   },
   "outputs": [
    {
     "name": "stderr",
     "output_type": "stream",
     "text": [
      "/Users/Tavo/anaconda3/lib/python3.5/site-packages/ipykernel/__main__.py:4: RuntimeWarning: divide by zero encountered in log\n"
     ]
    }
   ],
   "source": [
    "def transform_skew(dataframe, skew_thresh):\n",
    "    for col in dataframe.columns.values: \n",
    "        if (dataframe[col].skew()) > skew_thresh:\n",
    "            dataframe[col] = np.log(dataframe[col])\n",
    "            dataframe[col] = dataframe[col].apply(lambda x: 0 if x == (-1*np.inf) else x)\n",
    "#           df_quant[col] = Normalizer().fit_transform(df_quant[col].reshape(1,-1))[0]\n",
    "\n",
    "transform_skew(df_quant, 1.0)\n",
    "transform_skew(df_quant_test, 1.0)"
   ]
  },
  {
   "cell_type": "code",
   "execution_count": 15,
   "metadata": {
    "collapsed": false
   },
   "outputs": [
    {
     "name": "stderr",
     "output_type": "stream",
     "text": [
      "/Users/Tavo/anaconda3/lib/python3.5/site-packages/pandas/core/generic.py:3295: SettingWithCopyWarning: \n",
      "A value is trying to be set on a copy of a slice from a DataFrame\n",
      "\n",
      "See the caveats in the documentation: http://pandas.pydata.org/pandas-docs/stable/indexing.html#indexing-view-versus-copy\n",
      "  self._update_inplace(new_data)\n",
      "/Users/Tavo/anaconda3/lib/python3.5/site-packages/ipykernel/__main__.py:7: SettingWithCopyWarning: \n",
      "A value is trying to be set on a copy of a slice from a DataFrame.\n",
      "Try using .loc[row_indexer,col_indexer] = value instead\n",
      "\n",
      "See the caveats in the documentation: http://pandas.pydata.org/pandas-docs/stable/indexing.html#indexing-view-versus-copy\n",
      "/Users/Tavo/anaconda3/lib/python3.5/site-packages/ipykernel/__main__.py:4: SettingWithCopyWarning: \n",
      "A value is trying to be set on a copy of a slice from a DataFrame\n",
      "\n",
      "See the caveats in the documentation: http://pandas.pydata.org/pandas-docs/stable/indexing.html#indexing-view-versus-copy\n"
     ]
    },
    {
     "name": "stdout",
     "output_type": "stream",
     "text": [
      "FireplaceQu\n",
      "Fence\n",
      "----------------\n",
      "FireplaceQu\n",
      "Fence\n"
     ]
    }
   ],
   "source": [
    "def null_value_treatment_categorical(dataframe, thresh_null):\n",
    "    for col in dataframe.columns.values:\n",
    "        if np.sum(dataframe[col].isnull()) > thresh_null:\n",
    "            dataframe.drop(col, axis=1, inplace=True)\n",
    "            print(col)\n",
    "        elif np.sum(dataframe[col].isnull()) > 0:\n",
    "            dataframe[col] = dataframe[col].fillna('MIA', inplace=True)\n",
    "    return\n",
    "\n",
    "null_value_treatment_categorical(df_category, 150)\n",
    "print('----------------')\n",
    "null_value_treatment_categorical(df_category_test, 150)"
   ]
  },
  {
   "cell_type": "markdown",
   "metadata": {},
   "source": [
    "#### We need to be careful to keep the same number of predictors in the train and tests datasets. Otherwise, the fitted model won't be useful for the test data. If we examine the shape of the dummy dataframes, we realise that they differ greatly. This is beacuase some values  within a predictor are not represented in the test dataset. To avoid this, we will merge the train and test dataset, then run the dummy variables, and then separate the datasets again. "
   ]
  },
  {
   "cell_type": "code",
   "execution_count": 16,
   "metadata": {
    "collapsed": false
   },
   "outputs": [],
   "source": [
    "cat_variables = df_category.columns.values\n",
    "cat_variables_test = df_category_test.columns.values\n",
    "\n",
    "df_dummies = pd.get_dummies(df_category, columns=cat_variables)\n",
    "df_dummies_test = pd.get_dummies(df_category_test, columns=cat_variables)"
   ]
  },
  {
   "cell_type": "code",
   "execution_count": 17,
   "metadata": {
    "collapsed": false,
    "scrolled": true
   },
   "outputs": [
    {
     "name": "stdout",
     "output_type": "stream",
     "text": [
      "(1460, 36)\n",
      "------------------\n",
      "(1459, 36)\n",
      "------------------\n",
      "(1460, 173)\n",
      "------------------\n",
      "(1459, 113)\n",
      "------------------\n",
      "(1460, 39)\n",
      "------------------\n",
      "(1459, 38)\n"
     ]
    }
   ],
   "source": [
    "#Dummies are different size because of missing dimensions/values within some of the predictors\n",
    "print(df_category.shape)\n",
    "print('------------------')\n",
    "print(df_category_test.shape)\n",
    "print('------------------')\n",
    "print(df_dummies.shape)\n",
    "print('------------------')\n",
    "print(df_dummies_test.shape)\n",
    "print('------------------')\n",
    "print(df_quant.shape) #one predictor more than test because it still contains the 'predicted' feature.\n",
    "print('------------------')\n",
    "print(df_quant_test.shape)"
   ]
  },
  {
   "cell_type": "code",
   "execution_count": 18,
   "metadata": {
    "collapsed": false
   },
   "outputs": [
    {
     "name": "stdout",
     "output_type": "stream",
     "text": [
      "Index(['MSZoning', 'Street', 'LotShape', 'LandContour', 'Utilities',\n",
      "       'LotConfig', 'LandSlope', 'Neighborhood', 'Condition1', 'Condition2',\n",
      "       'BldgType', 'HouseStyle', 'RoofStyle', 'RoofMatl', 'Exterior1st',\n",
      "       'Exterior2nd', 'MasVnrType', 'ExterQual', 'ExterCond', 'Foundation',\n",
      "       'BsmtQual', 'BsmtCond', 'BsmtExposure', 'BsmtFinType1', 'BsmtFinType2',\n",
      "       'Heating', 'CentralAir', 'Electrical', 'Functional', 'GarageType',\n",
      "       'GarageFinish', 'GarageQual', 'GarageCond', 'PavedDrive', 'SaleType',\n",
      "       'SaleCondition'],\n",
      "      dtype='object')\n"
     ]
    },
    {
     "data": {
      "text/plain": [
       "Index(['MSZoning', 'Street', 'LotShape', 'LandContour', 'Utilities',\n",
       "       'LotConfig', 'LandSlope', 'Neighborhood', 'Condition1', 'Condition2',\n",
       "       'BldgType', 'HouseStyle', 'RoofStyle', 'RoofMatl', 'Exterior1st',\n",
       "       'Exterior2nd', 'MasVnrType', 'ExterQual', 'ExterCond', 'Foundation',\n",
       "       'BsmtQual', 'BsmtCond', 'BsmtExposure', 'BsmtFinType1', 'BsmtFinType2',\n",
       "       'Heating', 'CentralAir', 'Electrical', 'Functional', 'GarageType',\n",
       "       'GarageFinish', 'GarageQual', 'GarageCond', 'PavedDrive', 'SaleType',\n",
       "       'SaleCondition'],\n",
       "      dtype='object')"
      ]
     },
     "execution_count": 18,
     "metadata": {},
     "output_type": "execute_result"
    }
   ],
   "source": [
    "#Let's check if we have the same columns\n",
    "print(df_category.columns)\n",
    "df_category_test.columns"
   ]
  },
  {
   "cell_type": "code",
   "execution_count": 19,
   "metadata": {
    "collapsed": false
   },
   "outputs": [
    {
     "data": {
      "text/plain": [
       "(2919, 36)"
      ]
     },
     "execution_count": 19,
     "metadata": {},
     "output_type": "execute_result"
    }
   ],
   "source": [
    "#Here we have to merge categorical datasets, then run the dummies, then separate.\n",
    "df_category_joint = pd.concat([df_category, df_category_test])\n",
    "df_category_joint.shape"
   ]
  },
  {
   "cell_type": "code",
   "execution_count": 20,
   "metadata": {
    "collapsed": false
   },
   "outputs": [],
   "source": [
    "df_dummies_joint = pd.get_dummies(df_category_joint, columns=cat_variables, drop_first=True)\n",
    "df_dummies_joint.shape\n",
    "\n",
    "df_dummies = df_dummies_joint[0:1460]\n",
    "df_dummies_test = df_dummies_joint[1460:2919]"
   ]
  },
  {
   "cell_type": "code",
   "execution_count": 21,
   "metadata": {
    "collapsed": false
   },
   "outputs": [
    {
     "name": "stdout",
     "output_type": "stream",
     "text": [
      "(1460, 151)\n",
      "(1459, 151)\n"
     ]
    }
   ],
   "source": [
    "#Let's verify...\n",
    "print(df_dummies_joint[0:1460].shape)\n",
    "print(df_dummies_joint[1460:2919].shape)"
   ]
  },
  {
   "cell_type": "code",
   "execution_count": 22,
   "metadata": {
    "collapsed": false
   },
   "outputs": [],
   "source": [
    "y_train = df_quant['SalePrice']\n",
    "\n",
    "X_train = df_dummies.join(df_quant)\n",
    "X_train = X_train.drop(['SalePrice', 'Id'], axis=1)\n",
    "\n",
    "X_test = df_dummies_test.join(df_quant_test)\n",
    "X_test = X_test.drop(['Id'], axis=1)"
   ]
  },
  {
   "cell_type": "code",
   "execution_count": 23,
   "metadata": {
    "collapsed": false
   },
   "outputs": [
    {
     "data": {
      "text/html": [
       "<div>\n",
       "<table border=\"1\" class=\"dataframe\">\n",
       "  <thead>\n",
       "    <tr style=\"text-align: right;\">\n",
       "      <th></th>\n",
       "      <th>MSZoning_FV</th>\n",
       "      <th>MSZoning_RH</th>\n",
       "      <th>MSZoning_RL</th>\n",
       "      <th>MSZoning_RM</th>\n",
       "      <th>Street_Pave</th>\n",
       "      <th>LotShape_IR2</th>\n",
       "      <th>LotShape_IR3</th>\n",
       "      <th>LotShape_Reg</th>\n",
       "      <th>LandContour_HLS</th>\n",
       "      <th>LandContour_Low</th>\n",
       "      <th>...</th>\n",
       "      <th>GarageArea</th>\n",
       "      <th>WoodDeckSF</th>\n",
       "      <th>OpenPorchSF</th>\n",
       "      <th>EnclosedPorch</th>\n",
       "      <th>3SsnPorch</th>\n",
       "      <th>ScreenPorch</th>\n",
       "      <th>PoolArea</th>\n",
       "      <th>MiscVal</th>\n",
       "      <th>MoSold</th>\n",
       "      <th>YrSold</th>\n",
       "    </tr>\n",
       "  </thead>\n",
       "  <tbody>\n",
       "    <tr>\n",
       "      <th>0</th>\n",
       "      <td>0</td>\n",
       "      <td>0</td>\n",
       "      <td>1</td>\n",
       "      <td>0</td>\n",
       "      <td>1</td>\n",
       "      <td>0</td>\n",
       "      <td>0</td>\n",
       "      <td>1</td>\n",
       "      <td>0</td>\n",
       "      <td>0</td>\n",
       "      <td>...</td>\n",
       "      <td>548</td>\n",
       "      <td>0.000000</td>\n",
       "      <td>4.110874</td>\n",
       "      <td>0.000000</td>\n",
       "      <td>0.0</td>\n",
       "      <td>0.0</td>\n",
       "      <td>0.0</td>\n",
       "      <td>0.0</td>\n",
       "      <td>2</td>\n",
       "      <td>2008</td>\n",
       "    </tr>\n",
       "    <tr>\n",
       "      <th>1</th>\n",
       "      <td>0</td>\n",
       "      <td>0</td>\n",
       "      <td>1</td>\n",
       "      <td>0</td>\n",
       "      <td>1</td>\n",
       "      <td>0</td>\n",
       "      <td>0</td>\n",
       "      <td>1</td>\n",
       "      <td>0</td>\n",
       "      <td>0</td>\n",
       "      <td>...</td>\n",
       "      <td>460</td>\n",
       "      <td>5.697093</td>\n",
       "      <td>0.000000</td>\n",
       "      <td>0.000000</td>\n",
       "      <td>0.0</td>\n",
       "      <td>0.0</td>\n",
       "      <td>0.0</td>\n",
       "      <td>0.0</td>\n",
       "      <td>5</td>\n",
       "      <td>2007</td>\n",
       "    </tr>\n",
       "    <tr>\n",
       "      <th>2</th>\n",
       "      <td>0</td>\n",
       "      <td>0</td>\n",
       "      <td>1</td>\n",
       "      <td>0</td>\n",
       "      <td>1</td>\n",
       "      <td>0</td>\n",
       "      <td>0</td>\n",
       "      <td>0</td>\n",
       "      <td>0</td>\n",
       "      <td>0</td>\n",
       "      <td>...</td>\n",
       "      <td>608</td>\n",
       "      <td>0.000000</td>\n",
       "      <td>3.737670</td>\n",
       "      <td>0.000000</td>\n",
       "      <td>0.0</td>\n",
       "      <td>0.0</td>\n",
       "      <td>0.0</td>\n",
       "      <td>0.0</td>\n",
       "      <td>9</td>\n",
       "      <td>2008</td>\n",
       "    </tr>\n",
       "    <tr>\n",
       "      <th>3</th>\n",
       "      <td>0</td>\n",
       "      <td>0</td>\n",
       "      <td>1</td>\n",
       "      <td>0</td>\n",
       "      <td>1</td>\n",
       "      <td>0</td>\n",
       "      <td>0</td>\n",
       "      <td>0</td>\n",
       "      <td>0</td>\n",
       "      <td>0</td>\n",
       "      <td>...</td>\n",
       "      <td>642</td>\n",
       "      <td>0.000000</td>\n",
       "      <td>3.555348</td>\n",
       "      <td>5.605802</td>\n",
       "      <td>0.0</td>\n",
       "      <td>0.0</td>\n",
       "      <td>0.0</td>\n",
       "      <td>0.0</td>\n",
       "      <td>2</td>\n",
       "      <td>2006</td>\n",
       "    </tr>\n",
       "    <tr>\n",
       "      <th>4</th>\n",
       "      <td>0</td>\n",
       "      <td>0</td>\n",
       "      <td>1</td>\n",
       "      <td>0</td>\n",
       "      <td>1</td>\n",
       "      <td>0</td>\n",
       "      <td>0</td>\n",
       "      <td>0</td>\n",
       "      <td>0</td>\n",
       "      <td>0</td>\n",
       "      <td>...</td>\n",
       "      <td>836</td>\n",
       "      <td>5.257495</td>\n",
       "      <td>4.430817</td>\n",
       "      <td>0.000000</td>\n",
       "      <td>0.0</td>\n",
       "      <td>0.0</td>\n",
       "      <td>0.0</td>\n",
       "      <td>0.0</td>\n",
       "      <td>12</td>\n",
       "      <td>2008</td>\n",
       "    </tr>\n",
       "  </tbody>\n",
       "</table>\n",
       "<p>5 rows × 188 columns</p>\n",
       "</div>"
      ],
      "text/plain": [
       "   MSZoning_FV  MSZoning_RH  MSZoning_RL  MSZoning_RM  Street_Pave  \\\n",
       "0            0            0            1            0            1   \n",
       "1            0            0            1            0            1   \n",
       "2            0            0            1            0            1   \n",
       "3            0            0            1            0            1   \n",
       "4            0            0            1            0            1   \n",
       "\n",
       "   LotShape_IR2  LotShape_IR3  LotShape_Reg  LandContour_HLS  LandContour_Low  \\\n",
       "0             0             0             1                0                0   \n",
       "1             0             0             1                0                0   \n",
       "2             0             0             0                0                0   \n",
       "3             0             0             0                0                0   \n",
       "4             0             0             0                0                0   \n",
       "\n",
       "    ...    GarageArea  WoodDeckSF  OpenPorchSF  EnclosedPorch  3SsnPorch  \\\n",
       "0   ...           548    0.000000     4.110874       0.000000        0.0   \n",
       "1   ...           460    5.697093     0.000000       0.000000        0.0   \n",
       "2   ...           608    0.000000     3.737670       0.000000        0.0   \n",
       "3   ...           642    0.000000     3.555348       5.605802        0.0   \n",
       "4   ...           836    5.257495     4.430817       0.000000        0.0   \n",
       "\n",
       "   ScreenPorch  PoolArea  MiscVal  MoSold  YrSold  \n",
       "0          0.0       0.0      0.0       2    2008  \n",
       "1          0.0       0.0      0.0       5    2007  \n",
       "2          0.0       0.0      0.0       9    2008  \n",
       "3          0.0       0.0      0.0       2    2006  \n",
       "4          0.0       0.0      0.0      12    2008  \n",
       "\n",
       "[5 rows x 188 columns]"
      ]
     },
     "execution_count": 23,
     "metadata": {},
     "output_type": "execute_result"
    }
   ],
   "source": [
    "X_train.head()"
   ]
  },
  {
   "cell_type": "code",
   "execution_count": 24,
   "metadata": {
    "collapsed": false
   },
   "outputs": [
    {
     "data": {
      "text/html": [
       "<div>\n",
       "<table border=\"1\" class=\"dataframe\">\n",
       "  <thead>\n",
       "    <tr style=\"text-align: right;\">\n",
       "      <th></th>\n",
       "      <th>MSZoning_FV</th>\n",
       "      <th>MSZoning_RH</th>\n",
       "      <th>MSZoning_RL</th>\n",
       "      <th>MSZoning_RM</th>\n",
       "      <th>Street_Pave</th>\n",
       "      <th>LotShape_IR2</th>\n",
       "      <th>LotShape_IR3</th>\n",
       "      <th>LotShape_Reg</th>\n",
       "      <th>LandContour_HLS</th>\n",
       "      <th>LandContour_Low</th>\n",
       "      <th>...</th>\n",
       "      <th>GarageArea</th>\n",
       "      <th>WoodDeckSF</th>\n",
       "      <th>OpenPorchSF</th>\n",
       "      <th>EnclosedPorch</th>\n",
       "      <th>3SsnPorch</th>\n",
       "      <th>ScreenPorch</th>\n",
       "      <th>PoolArea</th>\n",
       "      <th>MiscVal</th>\n",
       "      <th>MoSold</th>\n",
       "      <th>YrSold</th>\n",
       "    </tr>\n",
       "  </thead>\n",
       "  <tbody>\n",
       "    <tr>\n",
       "      <th>0</th>\n",
       "      <td>0</td>\n",
       "      <td>0</td>\n",
       "      <td>0</td>\n",
       "      <td>0</td>\n",
       "      <td>1</td>\n",
       "      <td>0</td>\n",
       "      <td>0</td>\n",
       "      <td>1</td>\n",
       "      <td>0</td>\n",
       "      <td>0</td>\n",
       "      <td>...</td>\n",
       "      <td>730.0</td>\n",
       "      <td>4.941642</td>\n",
       "      <td>0.000000</td>\n",
       "      <td>0.0</td>\n",
       "      <td>0.0</td>\n",
       "      <td>4.787492</td>\n",
       "      <td>0.0</td>\n",
       "      <td>0.000000</td>\n",
       "      <td>6</td>\n",
       "      <td>2010</td>\n",
       "    </tr>\n",
       "    <tr>\n",
       "      <th>1</th>\n",
       "      <td>0</td>\n",
       "      <td>0</td>\n",
       "      <td>0</td>\n",
       "      <td>0</td>\n",
       "      <td>1</td>\n",
       "      <td>0</td>\n",
       "      <td>0</td>\n",
       "      <td>0</td>\n",
       "      <td>0</td>\n",
       "      <td>0</td>\n",
       "      <td>...</td>\n",
       "      <td>312.0</td>\n",
       "      <td>5.973810</td>\n",
       "      <td>3.583519</td>\n",
       "      <td>0.0</td>\n",
       "      <td>0.0</td>\n",
       "      <td>0.000000</td>\n",
       "      <td>0.0</td>\n",
       "      <td>9.433484</td>\n",
       "      <td>6</td>\n",
       "      <td>2010</td>\n",
       "    </tr>\n",
       "    <tr>\n",
       "      <th>2</th>\n",
       "      <td>0</td>\n",
       "      <td>0</td>\n",
       "      <td>0</td>\n",
       "      <td>0</td>\n",
       "      <td>1</td>\n",
       "      <td>0</td>\n",
       "      <td>0</td>\n",
       "      <td>0</td>\n",
       "      <td>0</td>\n",
       "      <td>0</td>\n",
       "      <td>...</td>\n",
       "      <td>482.0</td>\n",
       "      <td>5.356586</td>\n",
       "      <td>3.526361</td>\n",
       "      <td>0.0</td>\n",
       "      <td>0.0</td>\n",
       "      <td>0.000000</td>\n",
       "      <td>0.0</td>\n",
       "      <td>0.000000</td>\n",
       "      <td>3</td>\n",
       "      <td>2010</td>\n",
       "    </tr>\n",
       "    <tr>\n",
       "      <th>3</th>\n",
       "      <td>0</td>\n",
       "      <td>0</td>\n",
       "      <td>0</td>\n",
       "      <td>0</td>\n",
       "      <td>1</td>\n",
       "      <td>0</td>\n",
       "      <td>0</td>\n",
       "      <td>0</td>\n",
       "      <td>0</td>\n",
       "      <td>0</td>\n",
       "      <td>...</td>\n",
       "      <td>470.0</td>\n",
       "      <td>5.886104</td>\n",
       "      <td>3.583519</td>\n",
       "      <td>0.0</td>\n",
       "      <td>0.0</td>\n",
       "      <td>0.000000</td>\n",
       "      <td>0.0</td>\n",
       "      <td>0.000000</td>\n",
       "      <td>6</td>\n",
       "      <td>2010</td>\n",
       "    </tr>\n",
       "    <tr>\n",
       "      <th>4</th>\n",
       "      <td>0</td>\n",
       "      <td>0</td>\n",
       "      <td>0</td>\n",
       "      <td>0</td>\n",
       "      <td>1</td>\n",
       "      <td>0</td>\n",
       "      <td>0</td>\n",
       "      <td>0</td>\n",
       "      <td>1</td>\n",
       "      <td>0</td>\n",
       "      <td>...</td>\n",
       "      <td>506.0</td>\n",
       "      <td>0.000000</td>\n",
       "      <td>4.406719</td>\n",
       "      <td>0.0</td>\n",
       "      <td>0.0</td>\n",
       "      <td>4.969813</td>\n",
       "      <td>0.0</td>\n",
       "      <td>0.000000</td>\n",
       "      <td>1</td>\n",
       "      <td>2010</td>\n",
       "    </tr>\n",
       "  </tbody>\n",
       "</table>\n",
       "<p>5 rows × 188 columns</p>\n",
       "</div>"
      ],
      "text/plain": [
       "   MSZoning_FV  MSZoning_RH  MSZoning_RL  MSZoning_RM  Street_Pave  \\\n",
       "0            0            0            0            0            1   \n",
       "1            0            0            0            0            1   \n",
       "2            0            0            0            0            1   \n",
       "3            0            0            0            0            1   \n",
       "4            0            0            0            0            1   \n",
       "\n",
       "   LotShape_IR2  LotShape_IR3  LotShape_Reg  LandContour_HLS  LandContour_Low  \\\n",
       "0             0             0             1                0                0   \n",
       "1             0             0             0                0                0   \n",
       "2             0             0             0                0                0   \n",
       "3             0             0             0                0                0   \n",
       "4             0             0             0                1                0   \n",
       "\n",
       "    ...    GarageArea  WoodDeckSF  OpenPorchSF  EnclosedPorch  3SsnPorch  \\\n",
       "0   ...         730.0    4.941642     0.000000            0.0        0.0   \n",
       "1   ...         312.0    5.973810     3.583519            0.0        0.0   \n",
       "2   ...         482.0    5.356586     3.526361            0.0        0.0   \n",
       "3   ...         470.0    5.886104     3.583519            0.0        0.0   \n",
       "4   ...         506.0    0.000000     4.406719            0.0        0.0   \n",
       "\n",
       "   ScreenPorch  PoolArea   MiscVal  MoSold  YrSold  \n",
       "0     4.787492       0.0  0.000000       6    2010  \n",
       "1     0.000000       0.0  9.433484       6    2010  \n",
       "2     0.000000       0.0  0.000000       3    2010  \n",
       "3     0.000000       0.0  0.000000       6    2010  \n",
       "4     4.969813       0.0  0.000000       1    2010  \n",
       "\n",
       "[5 rows x 188 columns]"
      ]
     },
     "execution_count": 24,
     "metadata": {},
     "output_type": "execute_result"
    }
   ],
   "source": [
    "X_test.head()"
   ]
  },
  {
   "cell_type": "code",
   "execution_count": 25,
   "metadata": {
    "collapsed": false
   },
   "outputs": [
    {
     "data": {
      "text/plain": [
       "(1460,)"
      ]
     },
     "execution_count": 25,
     "metadata": {},
     "output_type": "execute_result"
    }
   ],
   "source": [
    "y_train.head()\n",
    "y_train.shape\n",
    "#---xxx---"
   ]
  },
  {
   "cell_type": "markdown",
   "metadata": {},
   "source": [
    "#### We need to creat a dataset that is scaled and see how our predictions change_scale"
   ]
  },
  {
   "cell_type": "code",
   "execution_count": 26,
   "metadata": {
    "collapsed": false
   },
   "outputs": [],
   "source": [
    "saved_cols = X_train.columns.values\n",
    "scaler = pp.StandardScaler().fit(X_train)\n",
    "X_train_scale = pd.DataFrame(scaler.transform(X_train), columns=saved_cols)\n",
    "X_test_scale = pd.DataFrame(scaler.transform(X_test), columns=saved_cols)"
   ]
  },
  {
   "cell_type": "code",
   "execution_count": 27,
   "metadata": {
    "collapsed": false
   },
   "outputs": [
    {
     "data": {
      "text/html": [
       "<div>\n",
       "<table border=\"1\" class=\"dataframe\">\n",
       "  <thead>\n",
       "    <tr style=\"text-align: right;\">\n",
       "      <th></th>\n",
       "      <th>MSZoning_FV</th>\n",
       "      <th>MSZoning_RH</th>\n",
       "      <th>MSZoning_RL</th>\n",
       "      <th>MSZoning_RM</th>\n",
       "      <th>Street_Pave</th>\n",
       "      <th>LotShape_IR2</th>\n",
       "      <th>LotShape_IR3</th>\n",
       "      <th>LotShape_Reg</th>\n",
       "      <th>LandContour_HLS</th>\n",
       "      <th>LandContour_Low</th>\n",
       "      <th>...</th>\n",
       "      <th>GarageArea</th>\n",
       "      <th>WoodDeckSF</th>\n",
       "      <th>OpenPorchSF</th>\n",
       "      <th>EnclosedPorch</th>\n",
       "      <th>3SsnPorch</th>\n",
       "      <th>ScreenPorch</th>\n",
       "      <th>PoolArea</th>\n",
       "      <th>MiscVal</th>\n",
       "      <th>MoSold</th>\n",
       "      <th>YrSold</th>\n",
       "    </tr>\n",
       "  </thead>\n",
       "  <tbody>\n",
       "    <tr>\n",
       "      <th>0</th>\n",
       "      <td>-0.215859</td>\n",
       "      <td>-0.105263</td>\n",
       "      <td>0.518133</td>\n",
       "      <td>-0.418955</td>\n",
       "      <td>0.064238</td>\n",
       "      <td>-0.169981</td>\n",
       "      <td>-0.083045</td>\n",
       "      <td>0.760512</td>\n",
       "      <td>-0.188311</td>\n",
       "      <td>-0.159</td>\n",
       "      <td>...</td>\n",
       "      <td>0.351000</td>\n",
       "      <td>-0.946448</td>\n",
       "      <td>0.845412</td>\n",
       "      <td>-0.404151</td>\n",
       "      <td>-0.128501</td>\n",
       "      <td>-0.292752</td>\n",
       "      <td>-0.069393</td>\n",
       "      <td>-0.190474</td>\n",
       "      <td>-1.599111</td>\n",
       "      <td>0.138777</td>\n",
       "    </tr>\n",
       "    <tr>\n",
       "      <th>1</th>\n",
       "      <td>-0.215859</td>\n",
       "      <td>-0.105263</td>\n",
       "      <td>0.518133</td>\n",
       "      <td>-0.418955</td>\n",
       "      <td>0.064238</td>\n",
       "      <td>-0.169981</td>\n",
       "      <td>-0.083045</td>\n",
       "      <td>0.760512</td>\n",
       "      <td>-0.188311</td>\n",
       "      <td>-0.159</td>\n",
       "      <td>...</td>\n",
       "      <td>-0.060731</td>\n",
       "      <td>1.251026</td>\n",
       "      <td>-1.071354</td>\n",
       "      <td>-0.404151</td>\n",
       "      <td>-0.128501</td>\n",
       "      <td>-0.292752</td>\n",
       "      <td>-0.069393</td>\n",
       "      <td>-0.190474</td>\n",
       "      <td>-0.489110</td>\n",
       "      <td>-0.614439</td>\n",
       "    </tr>\n",
       "    <tr>\n",
       "      <th>2</th>\n",
       "      <td>-0.215859</td>\n",
       "      <td>-0.105263</td>\n",
       "      <td>0.518133</td>\n",
       "      <td>-0.418955</td>\n",
       "      <td>0.064238</td>\n",
       "      <td>-0.169981</td>\n",
       "      <td>-0.083045</td>\n",
       "      <td>-1.314904</td>\n",
       "      <td>-0.188311</td>\n",
       "      <td>-0.159</td>\n",
       "      <td>...</td>\n",
       "      <td>0.631726</td>\n",
       "      <td>-0.946448</td>\n",
       "      <td>0.671399</td>\n",
       "      <td>-0.404151</td>\n",
       "      <td>-0.128501</td>\n",
       "      <td>-0.292752</td>\n",
       "      <td>-0.069393</td>\n",
       "      <td>-0.190474</td>\n",
       "      <td>0.990891</td>\n",
       "      <td>0.138777</td>\n",
       "    </tr>\n",
       "    <tr>\n",
       "      <th>3</th>\n",
       "      <td>-0.215859</td>\n",
       "      <td>-0.105263</td>\n",
       "      <td>0.518133</td>\n",
       "      <td>-0.418955</td>\n",
       "      <td>0.064238</td>\n",
       "      <td>-0.169981</td>\n",
       "      <td>-0.083045</td>\n",
       "      <td>-1.314904</td>\n",
       "      <td>-0.188311</td>\n",
       "      <td>-0.159</td>\n",
       "      <td>...</td>\n",
       "      <td>0.790804</td>\n",
       "      <td>-0.946448</td>\n",
       "      <td>0.586389</td>\n",
       "      <td>2.847712</td>\n",
       "      <td>-0.128501</td>\n",
       "      <td>-0.292752</td>\n",
       "      <td>-0.069393</td>\n",
       "      <td>-0.190474</td>\n",
       "      <td>-1.599111</td>\n",
       "      <td>-1.367655</td>\n",
       "    </tr>\n",
       "    <tr>\n",
       "      <th>4</th>\n",
       "      <td>-0.215859</td>\n",
       "      <td>-0.105263</td>\n",
       "      <td>0.518133</td>\n",
       "      <td>-0.418955</td>\n",
       "      <td>0.064238</td>\n",
       "      <td>-0.169981</td>\n",
       "      <td>-0.083045</td>\n",
       "      <td>-1.314904</td>\n",
       "      <td>-0.188311</td>\n",
       "      <td>-0.159</td>\n",
       "      <td>...</td>\n",
       "      <td>1.698485</td>\n",
       "      <td>1.081465</td>\n",
       "      <td>0.994591</td>\n",
       "      <td>-0.404151</td>\n",
       "      <td>-0.128501</td>\n",
       "      <td>-0.292752</td>\n",
       "      <td>-0.069393</td>\n",
       "      <td>-0.190474</td>\n",
       "      <td>2.100892</td>\n",
       "      <td>0.138777</td>\n",
       "    </tr>\n",
       "  </tbody>\n",
       "</table>\n",
       "<p>5 rows × 188 columns</p>\n",
       "</div>"
      ],
      "text/plain": [
       "   MSZoning_FV  MSZoning_RH  MSZoning_RL  MSZoning_RM  Street_Pave  \\\n",
       "0    -0.215859    -0.105263     0.518133    -0.418955     0.064238   \n",
       "1    -0.215859    -0.105263     0.518133    -0.418955     0.064238   \n",
       "2    -0.215859    -0.105263     0.518133    -0.418955     0.064238   \n",
       "3    -0.215859    -0.105263     0.518133    -0.418955     0.064238   \n",
       "4    -0.215859    -0.105263     0.518133    -0.418955     0.064238   \n",
       "\n",
       "   LotShape_IR2  LotShape_IR3  LotShape_Reg  LandContour_HLS  LandContour_Low  \\\n",
       "0     -0.169981     -0.083045      0.760512        -0.188311           -0.159   \n",
       "1     -0.169981     -0.083045      0.760512        -0.188311           -0.159   \n",
       "2     -0.169981     -0.083045     -1.314904        -0.188311           -0.159   \n",
       "3     -0.169981     -0.083045     -1.314904        -0.188311           -0.159   \n",
       "4     -0.169981     -0.083045     -1.314904        -0.188311           -0.159   \n",
       "\n",
       "     ...     GarageArea  WoodDeckSF  OpenPorchSF  EnclosedPorch  3SsnPorch  \\\n",
       "0    ...       0.351000   -0.946448     0.845412      -0.404151  -0.128501   \n",
       "1    ...      -0.060731    1.251026    -1.071354      -0.404151  -0.128501   \n",
       "2    ...       0.631726   -0.946448     0.671399      -0.404151  -0.128501   \n",
       "3    ...       0.790804   -0.946448     0.586389       2.847712  -0.128501   \n",
       "4    ...       1.698485    1.081465     0.994591      -0.404151  -0.128501   \n",
       "\n",
       "   ScreenPorch  PoolArea   MiscVal    MoSold    YrSold  \n",
       "0    -0.292752 -0.069393 -0.190474 -1.599111  0.138777  \n",
       "1    -0.292752 -0.069393 -0.190474 -0.489110 -0.614439  \n",
       "2    -0.292752 -0.069393 -0.190474  0.990891  0.138777  \n",
       "3    -0.292752 -0.069393 -0.190474 -1.599111 -1.367655  \n",
       "4    -0.292752 -0.069393 -0.190474  2.100892  0.138777  \n",
       "\n",
       "[5 rows x 188 columns]"
      ]
     },
     "execution_count": 27,
     "metadata": {},
     "output_type": "execute_result"
    }
   ],
   "source": [
    "X_train_scale.head()"
   ]
  },
  {
   "cell_type": "markdown",
   "metadata": {},
   "source": [
    "### A Random Forest to start\n",
    "#### Ideally, we would fit a linear model with two intentions: (1) Eliminate redundant (collinear) variables (2) assess the importance of each variables. This way, we would have a reference point (and a score) to compare with when doing our Random Forests. \n",
    "#### However, I will skip this step and head straight into the random forest model... I will do some optimisation by hand, putting some parameters by-ear that give me a reasonable cross validation score. Here it goes:"
   ]
  },
  {
   "cell_type": "code",
   "execution_count": 28,
   "metadata": {
    "collapsed": false
   },
   "outputs": [],
   "source": [
    "# Train a random forest with XXX decision trees\n",
    "model_rf1 = RandomForestRegressor(n_estimators=100, max_depth=15)"
   ]
  },
  {
   "cell_type": "code",
   "execution_count": 29,
   "metadata": {
    "collapsed": false,
    "scrolled": false
   },
   "outputs": [
    {
     "data": {
      "text/plain": [
       "RandomForestRegressor(bootstrap=True, criterion='mse', max_depth=15,\n",
       "           max_features='auto', max_leaf_nodes=None,\n",
       "           min_impurity_split=1e-07, min_samples_leaf=1,\n",
       "           min_samples_split=2, min_weight_fraction_leaf=0.0,\n",
       "           n_estimators=100, n_jobs=1, oob_score=False, random_state=None,\n",
       "           verbose=0, warm_start=False)"
      ]
     },
     "execution_count": 29,
     "metadata": {},
     "output_type": "execute_result"
    }
   ],
   "source": [
    "#Fit the training data\n",
    "model_rf1.fit(X_train, y_train)"
   ]
  },
  {
   "cell_type": "markdown",
   "metadata": {},
   "source": [
    "#### Let's define the folds and check the score..."
   ]
  },
  {
   "cell_type": "code",
   "execution_count": 30,
   "metadata": {
    "collapsed": false
   },
   "outputs": [
    {
     "name": "stdout",
     "output_type": "stream",
     "text": [
      "[ 0.87149888  0.90035744  0.86957492  0.86249839  0.88209593  0.85655768\n",
      "  0.84123492  0.8557912   0.8987714   0.82671275]  and the mean score is =  0.866509351384\n"
     ]
    }
   ],
   "source": [
    "# Define folds for cross-validation\n",
    "kf = cv.KFold(1460, n_folds=10, shuffle=True)\n",
    "#kf = 5\n",
    "scores = cv.cross_val_score(model_rf1, X_train, y_train, cv=kf)\n",
    "print(scores, ' and the mean score is = ', scores.mean())"
   ]
  },
  {
   "cell_type": "markdown",
   "metadata": {},
   "source": [
    "#### Let's investigate the feature importance, possibly eliminating redundant variables, if any"
   ]
  },
  {
   "cell_type": "code",
   "execution_count": 31,
   "metadata": {
    "collapsed": false
   },
   "outputs": [],
   "source": [
    "# Investigate importances of predictors\n",
    "###model_rf1.feature_importances_\n",
    "feature_importance = model_rf1.feature_importances_"
   ]
  },
  {
   "cell_type": "code",
   "execution_count": 32,
   "metadata": {
    "collapsed": false
   },
   "outputs": [
    {
     "data": {
      "image/png": "[encoded data removed]",
      "text/plain": [
       "<matplotlib.figure.Figure at 0x1188d9710>"
      ]
     },
     "metadata": {},
     "output_type": "display_data"
    }
   ],
   "source": [
    "# make importances relative to max importance\n",
    "feature_importance = 100 * (feature_importance / feature_importance.max())\n",
    "sorted_idx = np.argsort(feature_importance)\n",
    "featimp = feature_importance[sorted_idx]\n",
    "feat = X_train.columns[sorted_idx]\n",
    "pos = np.arange(sorted_idx.shape[0]) + .5\n",
    "\n",
    "a = 0 \n",
    "b = 50 #To limit the number of features\n",
    "c = b - a\n",
    "\n",
    "featimp= featimp[::-1][a:b]\n",
    "feat = feat[::-1][a:b]\n",
    "pos = pos[::-1][a:b]\n",
    "\n",
    "fig = plt.figure(figsize=(8,8))\n",
    "plt.subplot2grid((1,1), (0,0))\n",
    "with sns.axes_style(\"white\"):\n",
    "    ax = sns.barplot(y=feat, x=featimp)\n",
    "plt.xlabel('Relative Importance')\n",
    "plt.title('Variable Importance (first {0} variables)'.format(c))\n",
    "plt.show()"
   ]
  },
  {
   "cell_type": "code",
   "execution_count": 33,
   "metadata": {
    "collapsed": false
   },
   "outputs": [],
   "source": [
    "#Let's check for a second the names of the columns to be sure what we have...\n",
    "#X_train.columns.values"
   ]
  },
  {
   "cell_type": "markdown",
   "metadata": {},
   "source": [
    "#### Let's drop columns that may be redundant. I will keep all at the moment. I already turned on 'drop_first' on get_dummies in order to generate k-1 variables for k indicators."
   ]
  },
  {
   "cell_type": "code",
   "execution_count": 34,
   "metadata": {
    "collapsed": false
   },
   "outputs": [],
   "source": [
    "#redundant_variables = ['CentralAir_N'] #undecided if eliminate 'GarageArea' as it is highly correlated with 'GarageCars'\n",
    "#However, in the context of an American house, perhaps the area of the garage and the number of cars fitting it are considered separately by the consumer?\n",
    "#A 1-car garage but huge might not be the same than a 1-car gerage barely fittign the car. \n",
    "#With some research we could elucidate this and take an informed decision. \n",
    "\n",
    "#X_train = X_train.drop(redundant_variables, axis=1)\n",
    "#X_test = X_test.drop(redundant_variables, axis=1)"
   ]
  },
  {
   "cell_type": "code",
   "execution_count": 35,
   "metadata": {
    "collapsed": false
   },
   "outputs": [
    {
     "name": "stdout",
     "output_type": "stream",
     "text": [
      "(1459, 188) (1460, 188)\n"
     ]
    }
   ],
   "source": [
    "print(X_test.shape, X_train.shape)"
   ]
  },
  {
   "cell_type": "markdown",
   "metadata": {},
   "source": [
    "#### Assess the scores for a few different regressors based on decision trees"
   ]
  },
  {
   "cell_type": "code",
   "execution_count": 36,
   "metadata": {
    "collapsed": false
   },
   "outputs": [
    {
     "data": {
      "text/plain": [
       "[('Random Forest Regressor', 0.86734133801755642),\n",
       " ('Gradient Boost Regressor', 0.89018079393200922),\n",
       " ('ExtraTrees Regressor', 0.86917950469467387),\n",
       " ('Bagging Regressor', 0.87045368993384797),\n",
       " ('AdaBoost Regressor', 0.79895862561606046)]"
      ]
     },
     "execution_count": 36,
     "metadata": {},
     "output_type": "execute_result"
    }
   ],
   "source": [
    "def check_classifiers(X, y):\n",
    "    \"\"\"\n",
    "    Returns a sorted list of accuracy scores from fitting and scoring passed data\n",
    "    against several algorithms.\n",
    "    \"\"\"\n",
    "    params = 100\n",
    "    _cv = kf\n",
    "    classifier_score = {}\n",
    "    \n",
    "    scores = cv.cross_val_score(RandomForestRegressor(n_estimators=params), X, y, cv=_cv)\n",
    "    classifier_score['Random Forest Regressor'] = scores.mean()\n",
    "    \n",
    "    scores = cv.cross_val_score(BaggingRegressor(n_estimators=params), X, y, cv=_cv)\n",
    "    classifier_score['Bagging Regressor'] = scores.mean()\n",
    "    \n",
    "    scores = cv.cross_val_score(ExtraTreesRegressor(n_estimators=params), X, y, cv=_cv)\n",
    "    classifier_score['ExtraTrees Regressor'] = scores.mean()\n",
    "    \n",
    "    scores = cv.cross_val_score(AdaBoostRegressor(n_estimators=params), X, y, cv=_cv)\n",
    "    classifier_score['AdaBoost Regressor'] = scores.mean()\n",
    "    \n",
    "    scores = cv.cross_val_score(GradientBoostingRegressor(n_estimators=params), X, y, cv=_cv)\n",
    "    classifier_score['Gradient Boost Regressor'] = scores.mean()\n",
    "\n",
    "    #return sorted(classifier_score.items(), key=operator.itemgetter(1), reverse=True)\n",
    "    return sorted(classifier_score.items(), reverse=True)\n",
    "\n",
    "check_classifiers(X_train, y_train)"
   ]
  },
  {
   "cell_type": "markdown",
   "metadata": {},
   "source": [
    "#### Select a regressor and perform grid search for selection of best parameters. The gradient boosting regressor seems to do a good job."
   ]
  },
  {
   "cell_type": "code",
   "execution_count": 37,
   "metadata": {
    "collapsed": false
   },
   "outputs": [
    {
     "data": {
      "text/plain": [
       "[mean: -0.13994, std: 0.01851, params: {'learning_rate': 0.001, 'loss': 'ls', 'n_estimators': 100, 'max_depth': 3},\n",
       " mean: -0.12334, std: 0.01660, params: {'learning_rate': 0.001, 'loss': 'ls', 'n_estimators': 200, 'max_depth': 3},\n",
       " mean: -0.13740, std: 0.01775, params: {'learning_rate': 0.001, 'loss': 'ls', 'n_estimators': 100, 'max_depth': 5},\n",
       " mean: -0.11878, std: 0.01543, params: {'learning_rate': 0.001, 'loss': 'ls', 'n_estimators': 200, 'max_depth': 5},\n",
       " mean: -0.13593, std: 0.01760, params: {'learning_rate': 0.001, 'loss': 'ls', 'n_estimators': 100, 'max_depth': 7},\n",
       " mean: -0.11684, std: 0.01489, params: {'learning_rate': 0.001, 'loss': 'ls', 'n_estimators': 200, 'max_depth': 7},\n",
       " mean: -0.14492, std: 0.01981, params: {'learning_rate': 0.001, 'loss': 'lad', 'n_estimators': 100, 'max_depth': 3},\n",
       " mean: -0.13251, std: 0.01886, params: {'learning_rate': 0.001, 'loss': 'lad', 'n_estimators': 200, 'max_depth': 3},\n",
       " mean: -0.14427, std: 0.01976, params: {'learning_rate': 0.001, 'loss': 'lad', 'n_estimators': 100, 'max_depth': 5},\n",
       " mean: -0.13081, std: 0.01864, params: {'learning_rate': 0.001, 'loss': 'lad', 'n_estimators': 200, 'max_depth': 5},\n",
       " mean: -0.14387, std: 0.01969, params: {'learning_rate': 0.001, 'loss': 'lad', 'n_estimators': 100, 'max_depth': 7},\n",
       " mean: -0.13011, std: 0.01858, params: {'learning_rate': 0.001, 'loss': 'lad', 'n_estimators': 200, 'max_depth': 7},\n",
       " mean: -0.14035, std: 0.01861, params: {'learning_rate': 0.001, 'loss': 'huber', 'n_estimators': 100, 'max_depth': 3},\n",
       " mean: -0.12401, std: 0.01664, params: {'learning_rate': 0.001, 'loss': 'huber', 'n_estimators': 200, 'max_depth': 3},\n",
       " mean: -0.13811, std: 0.01824, params: {'learning_rate': 0.001, 'loss': 'huber', 'n_estimators': 100, 'max_depth': 5},\n",
       " mean: -0.11969, std: 0.01583, params: {'learning_rate': 0.001, 'loss': 'huber', 'n_estimators': 200, 'max_depth': 5},\n",
       " mean: -0.13681, std: 0.01797, params: {'learning_rate': 0.001, 'loss': 'huber', 'n_estimators': 100, 'max_depth': 7},\n",
       " mean: -0.11748, std: 0.01540, params: {'learning_rate': 0.001, 'loss': 'huber', 'n_estimators': 200, 'max_depth': 7},\n",
       " mean: -0.05427, std: 0.00859, params: {'learning_rate': 0.01, 'loss': 'ls', 'n_estimators': 100, 'max_depth': 3},\n",
       " mean: -0.03025, std: 0.00553, params: {'learning_rate': 0.01, 'loss': 'ls', 'n_estimators': 200, 'max_depth': 3},\n",
       " mean: -0.04657, std: 0.00683, params: {'learning_rate': 0.01, 'loss': 'ls', 'n_estimators': 100, 'max_depth': 5},\n",
       " mean: -0.02529, std: 0.00415, params: {'learning_rate': 0.01, 'loss': 'ls', 'n_estimators': 200, 'max_depth': 5},\n",
       " mean: -0.04392, std: 0.00580, params: {'learning_rate': 0.01, 'loss': 'ls', 'n_estimators': 100, 'max_depth': 7},\n",
       " mean: -0.02536, std: 0.00433, params: {'learning_rate': 0.01, 'loss': 'ls', 'n_estimators': 200, 'max_depth': 7},\n",
       " mean: -0.07280, std: 0.01304, params: {'learning_rate': 0.01, 'loss': 'lad', 'n_estimators': 100, 'max_depth': 3},\n",
       " mean: -0.04285, std: 0.00867, params: {'learning_rate': 0.01, 'loss': 'lad', 'n_estimators': 200, 'max_depth': 3},\n",
       " mean: -0.06633, std: 0.01187, params: {'learning_rate': 0.01, 'loss': 'lad', 'n_estimators': 100, 'max_depth': 5},\n",
       " mean: -0.03721, std: 0.00763, params: {'learning_rate': 0.01, 'loss': 'lad', 'n_estimators': 200, 'max_depth': 5},\n",
       " mean: -0.06451, std: 0.01160, params: {'learning_rate': 0.01, 'loss': 'lad', 'n_estimators': 100, 'max_depth': 7},\n",
       " mean: -0.03505, std: 0.00707, params: {'learning_rate': 0.01, 'loss': 'lad', 'n_estimators': 200, 'max_depth': 7},\n",
       " mean: -0.05605, std: 0.00947, params: {'learning_rate': 0.01, 'loss': 'huber', 'n_estimators': 100, 'max_depth': 3},\n",
       " mean: -0.03181, std: 0.00614, params: {'learning_rate': 0.01, 'loss': 'huber', 'n_estimators': 200, 'max_depth': 3},\n",
       " mean: -0.04793, std: 0.00754, params: {'learning_rate': 0.01, 'loss': 'huber', 'n_estimators': 100, 'max_depth': 5},\n",
       " mean: -0.02633, std: 0.00499, params: {'learning_rate': 0.01, 'loss': 'huber', 'n_estimators': 200, 'max_depth': 5},\n",
       " mean: -0.04524, std: 0.00680, params: {'learning_rate': 0.01, 'loss': 'huber', 'n_estimators': 100, 'max_depth': 7},\n",
       " mean: -0.02599, std: 0.00442, params: {'learning_rate': 0.01, 'loss': 'huber', 'n_estimators': 200, 'max_depth': 7},\n",
       " mean: -0.01712, std: 0.00279, params: {'learning_rate': 0.1, 'loss': 'ls', 'n_estimators': 100, 'max_depth': 3},\n",
       " mean: -0.01699, std: 0.00310, params: {'learning_rate': 0.1, 'loss': 'ls', 'n_estimators': 200, 'max_depth': 3},\n",
       " mean: -0.01771, std: 0.00288, params: {'learning_rate': 0.1, 'loss': 'ls', 'n_estimators': 100, 'max_depth': 5},\n",
       " mean: -0.01744, std: 0.00284, params: {'learning_rate': 0.1, 'loss': 'ls', 'n_estimators': 200, 'max_depth': 5},\n",
       " mean: -0.02013, std: 0.00347, params: {'learning_rate': 0.1, 'loss': 'ls', 'n_estimators': 100, 'max_depth': 7},\n",
       " mean: -0.02002, std: 0.00358, params: {'learning_rate': 0.1, 'loss': 'ls', 'n_estimators': 200, 'max_depth': 7},\n",
       " mean: -0.01813, std: 0.00367, params: {'learning_rate': 0.1, 'loss': 'lad', 'n_estimators': 100, 'max_depth': 3},\n",
       " mean: -0.01740, std: 0.00344, params: {'learning_rate': 0.1, 'loss': 'lad', 'n_estimators': 200, 'max_depth': 3},\n",
       " mean: -0.01754, std: 0.00359, params: {'learning_rate': 0.1, 'loss': 'lad', 'n_estimators': 100, 'max_depth': 5},\n",
       " mean: -0.01722, std: 0.00324, params: {'learning_rate': 0.1, 'loss': 'lad', 'n_estimators': 200, 'max_depth': 5},\n",
       " mean: -0.01760, std: 0.00354, params: {'learning_rate': 0.1, 'loss': 'lad', 'n_estimators': 100, 'max_depth': 7},\n",
       " mean: -0.01698, std: 0.00330, params: {'learning_rate': 0.1, 'loss': 'lad', 'n_estimators': 200, 'max_depth': 7},\n",
       " mean: -0.01682, std: 0.00313, params: {'learning_rate': 0.1, 'loss': 'huber', 'n_estimators': 100, 'max_depth': 3},\n",
       " mean: -0.01699, std: 0.00318, params: {'learning_rate': 0.1, 'loss': 'huber', 'n_estimators': 200, 'max_depth': 3},\n",
       " mean: -0.01772, std: 0.00345, params: {'learning_rate': 0.1, 'loss': 'huber', 'n_estimators': 100, 'max_depth': 5},\n",
       " mean: -0.01763, std: 0.00323, params: {'learning_rate': 0.1, 'loss': 'huber', 'n_estimators': 200, 'max_depth': 5},\n",
       " mean: -0.01981, std: 0.00331, params: {'learning_rate': 0.1, 'loss': 'huber', 'n_estimators': 100, 'max_depth': 7},\n",
       " mean: -0.01961, std: 0.00334, params: {'learning_rate': 0.1, 'loss': 'huber', 'n_estimators': 200, 'max_depth': 7}]"
      ]
     },
     "execution_count": 37,
     "metadata": {},
     "output_type": "execute_result"
    }
   ],
   "source": [
    "model_rf2 = GradientBoostingRegressor()\n",
    "\n",
    "# Determine ‘optimal’ number of components\n",
    "gs = grid_search.GridSearchCV(\n",
    "    estimator=model_rf2,\n",
    "    param_grid={'loss': ['ls', 'lad', 'huber'],\n",
    "                'learning_rate': [0.001, 0.01, 0.1],\n",
    "                'n_estimators': np.arange(100, 300, 100),\n",
    "                'max_depth': [3, 5, 7]\n",
    "                },\n",
    "    scoring='neg_mean_squared_error',\n",
    "    cv=kf\n",
    "    )\n",
    "\n",
    "gs.fit(X_train, y_train)\n",
    "\n",
    "\n",
    "gs.grid_scores_"
   ]
  },
  {
   "cell_type": "code",
   "execution_count": 38,
   "metadata": {
    "collapsed": false
   },
   "outputs": [
    {
     "name": "stdout",
     "output_type": "stream",
     "text": [
      "Lowest mean squared error =  -0.01681886504023499\n"
     ]
    },
    {
     "data": {
      "text/plain": [
       "GradientBoostingRegressor(alpha=0.9, criterion='friedman_mse', init=None,\n",
       "             learning_rate=0.1, loss='huber', max_depth=3,\n",
       "             max_features=None, max_leaf_nodes=None,\n",
       "             min_impurity_split=1e-07, min_samples_leaf=1,\n",
       "             min_samples_split=2, min_weight_fraction_leaf=0.0,\n",
       "             n_estimators=100, presort='auto', random_state=None,\n",
       "             subsample=1.0, verbose=0, warm_start=False)"
      ]
     },
     "execution_count": 38,
     "metadata": {},
     "output_type": "execute_result"
    }
   ],
   "source": [
    "print('Lowest mean squared error = ', gs.best_score_)\n",
    "gs.best_estimator_"
   ]
  },
  {
   "cell_type": "code",
   "execution_count": 39,
   "metadata": {
    "collapsed": false
   },
   "outputs": [
    {
     "data": {
      "text/plain": [
       "GradientBoostingRegressor(alpha=0.9, criterion='friedman_mse', init=None,\n",
       "             learning_rate=0.1, loss='huber', max_depth=3,\n",
       "             max_features=None, max_leaf_nodes=None,\n",
       "             min_impurity_split=1e-07, min_samples_leaf=1,\n",
       "             min_samples_split=2, min_weight_fraction_leaf=0.0,\n",
       "             n_estimators=100, presort='auto', random_state=None,\n",
       "             subsample=1.0, verbose=0, warm_start=False)"
      ]
     },
     "execution_count": 39,
     "metadata": {},
     "output_type": "execute_result"
    }
   ],
   "source": [
    "model_rf3 = gs.best_estimator_\n",
    "model_rf3.fit(X_train, y_train)"
   ]
  },
  {
   "cell_type": "code",
   "execution_count": 40,
   "metadata": {
    "collapsed": false
   },
   "outputs": [
    {
     "data": {
      "text/plain": [
       "0.8918956258552857"
      ]
     },
     "execution_count": 40,
     "metadata": {},
     "output_type": "execute_result"
    }
   ],
   "source": [
    "scores = cv.cross_val_score(model_rf3, X_train, y_train, cv=kf)\n",
    "scores.mean()"
   ]
  },
  {
   "cell_type": "code",
   "execution_count": 41,
   "metadata": {
    "collapsed": false
   },
   "outputs": [],
   "source": [
    "y_test = model_rf3.predict(X_test)"
   ]
  },
  {
   "cell_type": "code",
   "execution_count": 42,
   "metadata": {
    "collapsed": false
   },
   "outputs": [
    {
     "data": {
      "text/plain": [
       "array([ 132437.60441813,  167864.9846383 ,  192532.3557644 , ...,\n",
       "        187342.43523339,  141969.17189513,  252640.75812441])"
      ]
     },
     "execution_count": 42,
     "metadata": {},
     "output_type": "execute_result"
    }
   ],
   "source": [
    "y = np.exp(y_test)\n",
    "y"
   ]
  },
  {
   "cell_type": "markdown",
   "metadata": {},
   "source": [
    "#### Some graphs, I'll stick to the main predictor, but we can do it for the top 10 or 20 predictors and improve the unerstanding of our data and the quality of our predictions"
   ]
  },
  {
   "cell_type": "code",
   "execution_count": 43,
   "metadata": {
    "collapsed": false
   },
   "outputs": [
    {
     "name": "stdout",
     "output_type": "stream",
     "text": [
      "(1460, 191) (1459, 191) (2919, 191)\n"
     ]
    },
    {
     "data": {
      "text/html": [
       "<div>\n",
       "<table border=\"1\" class=\"dataframe\">\n",
       "  <thead>\n",
       "    <tr style=\"text-align: right;\">\n",
       "      <th></th>\n",
       "      <th>MSZoning_FV</th>\n",
       "      <th>MSZoning_RH</th>\n",
       "      <th>MSZoning_RL</th>\n",
       "      <th>MSZoning_RM</th>\n",
       "      <th>Street_Pave</th>\n",
       "      <th>LotShape_IR2</th>\n",
       "      <th>LotShape_IR3</th>\n",
       "      <th>LotShape_Reg</th>\n",
       "      <th>LandContour_HLS</th>\n",
       "      <th>LandContour_Low</th>\n",
       "      <th>...</th>\n",
       "      <th>EnclosedPorch</th>\n",
       "      <th>3SsnPorch</th>\n",
       "      <th>ScreenPorch</th>\n",
       "      <th>PoolArea</th>\n",
       "      <th>MiscVal</th>\n",
       "      <th>MoSold</th>\n",
       "      <th>YrSold</th>\n",
       "      <th>SalePrice</th>\n",
       "      <th>dataset</th>\n",
       "      <th>Id</th>\n",
       "    </tr>\n",
       "  </thead>\n",
       "  <tbody>\n",
       "    <tr>\n",
       "      <th>0</th>\n",
       "      <td>0</td>\n",
       "      <td>0</td>\n",
       "      <td>0</td>\n",
       "      <td>0</td>\n",
       "      <td>1</td>\n",
       "      <td>0</td>\n",
       "      <td>0</td>\n",
       "      <td>1</td>\n",
       "      <td>0</td>\n",
       "      <td>0</td>\n",
       "      <td>...</td>\n",
       "      <td>0.0</td>\n",
       "      <td>0.0</td>\n",
       "      <td>4.787492</td>\n",
       "      <td>0.0</td>\n",
       "      <td>0.000000</td>\n",
       "      <td>6</td>\n",
       "      <td>2010</td>\n",
       "      <td>132437.604418</td>\n",
       "      <td>test</td>\n",
       "      <td>1461</td>\n",
       "    </tr>\n",
       "    <tr>\n",
       "      <th>1</th>\n",
       "      <td>0</td>\n",
       "      <td>0</td>\n",
       "      <td>0</td>\n",
       "      <td>0</td>\n",
       "      <td>1</td>\n",
       "      <td>0</td>\n",
       "      <td>0</td>\n",
       "      <td>0</td>\n",
       "      <td>0</td>\n",
       "      <td>0</td>\n",
       "      <td>...</td>\n",
       "      <td>0.0</td>\n",
       "      <td>0.0</td>\n",
       "      <td>0.000000</td>\n",
       "      <td>0.0</td>\n",
       "      <td>9.433484</td>\n",
       "      <td>6</td>\n",
       "      <td>2010</td>\n",
       "      <td>167864.984638</td>\n",
       "      <td>test</td>\n",
       "      <td>1462</td>\n",
       "    </tr>\n",
       "    <tr>\n",
       "      <th>2</th>\n",
       "      <td>0</td>\n",
       "      <td>0</td>\n",
       "      <td>0</td>\n",
       "      <td>0</td>\n",
       "      <td>1</td>\n",
       "      <td>0</td>\n",
       "      <td>0</td>\n",
       "      <td>0</td>\n",
       "      <td>0</td>\n",
       "      <td>0</td>\n",
       "      <td>...</td>\n",
       "      <td>0.0</td>\n",
       "      <td>0.0</td>\n",
       "      <td>0.000000</td>\n",
       "      <td>0.0</td>\n",
       "      <td>0.000000</td>\n",
       "      <td>3</td>\n",
       "      <td>2010</td>\n",
       "      <td>192532.355764</td>\n",
       "      <td>test</td>\n",
       "      <td>1463</td>\n",
       "    </tr>\n",
       "    <tr>\n",
       "      <th>3</th>\n",
       "      <td>0</td>\n",
       "      <td>0</td>\n",
       "      <td>0</td>\n",
       "      <td>0</td>\n",
       "      <td>1</td>\n",
       "      <td>0</td>\n",
       "      <td>0</td>\n",
       "      <td>0</td>\n",
       "      <td>0</td>\n",
       "      <td>0</td>\n",
       "      <td>...</td>\n",
       "      <td>0.0</td>\n",
       "      <td>0.0</td>\n",
       "      <td>0.000000</td>\n",
       "      <td>0.0</td>\n",
       "      <td>0.000000</td>\n",
       "      <td>6</td>\n",
       "      <td>2010</td>\n",
       "      <td>212424.109832</td>\n",
       "      <td>test</td>\n",
       "      <td>1464</td>\n",
       "    </tr>\n",
       "    <tr>\n",
       "      <th>4</th>\n",
       "      <td>0</td>\n",
       "      <td>0</td>\n",
       "      <td>0</td>\n",
       "      <td>0</td>\n",
       "      <td>1</td>\n",
       "      <td>0</td>\n",
       "      <td>0</td>\n",
       "      <td>0</td>\n",
       "      <td>1</td>\n",
       "      <td>0</td>\n",
       "      <td>...</td>\n",
       "      <td>0.0</td>\n",
       "      <td>0.0</td>\n",
       "      <td>4.969813</td>\n",
       "      <td>0.0</td>\n",
       "      <td>0.000000</td>\n",
       "      <td>1</td>\n",
       "      <td>2010</td>\n",
       "      <td>220891.993449</td>\n",
       "      <td>test</td>\n",
       "      <td>1465</td>\n",
       "    </tr>\n",
       "  </tbody>\n",
       "</table>\n",
       "<p>5 rows × 191 columns</p>\n",
       "</div>"
      ],
      "text/plain": [
       "   MSZoning_FV  MSZoning_RH  MSZoning_RL  MSZoning_RM  Street_Pave  \\\n",
       "0            0            0            0            0            1   \n",
       "1            0            0            0            0            1   \n",
       "2            0            0            0            0            1   \n",
       "3            0            0            0            0            1   \n",
       "4            0            0            0            0            1   \n",
       "\n",
       "   LotShape_IR2  LotShape_IR3  LotShape_Reg  LandContour_HLS  LandContour_Low  \\\n",
       "0             0             0             1                0                0   \n",
       "1             0             0             0                0                0   \n",
       "2             0             0             0                0                0   \n",
       "3             0             0             0                0                0   \n",
       "4             0             0             0                1                0   \n",
       "\n",
       "   ...   EnclosedPorch  3SsnPorch  ScreenPorch  PoolArea   MiscVal  MoSold  \\\n",
       "0  ...             0.0        0.0     4.787492       0.0  0.000000       6   \n",
       "1  ...             0.0        0.0     0.000000       0.0  9.433484       6   \n",
       "2  ...             0.0        0.0     0.000000       0.0  0.000000       3   \n",
       "3  ...             0.0        0.0     0.000000       0.0  0.000000       6   \n",
       "4  ...             0.0        0.0     4.969813       0.0  0.000000       1   \n",
       "\n",
       "   YrSold      SalePrice  dataset    Id  \n",
       "0    2010  132437.604418     test  1461  \n",
       "1    2010  167864.984638     test  1462  \n",
       "2    2010  192532.355764     test  1463  \n",
       "3    2010  212424.109832     test  1464  \n",
       "4    2010  220891.993449     test  1465  \n",
       "\n",
       "[5 rows x 191 columns]"
      ]
     },
     "execution_count": 43,
     "metadata": {},
     "output_type": "execute_result"
    }
   ],
   "source": [
    "#Let's group some data...\n",
    "train_diag = X_train.join(np.exp(y_train))\n",
    "train_diag['dataset'] = 'train'\n",
    "train_diag['Id'] = realestate['Id'\n",
    "                             ]\n",
    "test_diag = X_test\n",
    "test_diag['SalePrice'] = y\n",
    "test_diag['dataset'] = 'test'\n",
    "test_diag['Id'] = realestate_test['Id']\n",
    "\n",
    "total_diag = pd.concat([train_diag, test_diag])\n",
    "\n",
    "print(train_diag.shape, test_diag.shape, total_diag.shape)\n",
    "test_diag.head()\n",
    "#total_diag.columns.values\n"
   ]
  },
  {
   "cell_type": "code",
   "execution_count": 44,
   "metadata": {
    "collapsed": false,
    "scrolled": true
   },
   "outputs": [
    {
     "data": {
      "image/png": "[encoded data removed]",
      "text/plain": [
       "<matplotlib.figure.Figure at 0x118fb6a20>"
      ]
     },
     "metadata": {},
     "output_type": "display_data"
    }
   ],
   "source": [
    "fig = plt.figure(figsize=(10,15))\n",
    "\n",
    "plt.subplot2grid((2,1), (0,0))\n",
    "with sns.axes_style(\"white\"):\n",
    "    sns.violinplot(x='OverallQual', y='SalePrice', hue='dataset', data=total_diag, split=True,\n",
    "               inner='quart', palette={'train': 'r', 'test': 'y'})\n",
    "plt.legend(bbox_to_anchor=(1.05, 1), loc=2, borderaxespad=0.)\n",
    "plt.xlabel('Overall quality')\n",
    "plt.ylabel('Sale price')\n",
    "plt.title('Sale price and overall quality')\n",
    "\n",
    "'''\n",
    "plt.subplot2grid((2,1), (0,1))\n",
    "with sns.axes_style(\"white\"):\n",
    "    ax = sns.jointplot(X_test['OverallQual'], y, kind=\"hex\", stat_func=kendalltau, color=\"#4CB391\")\n",
    "plt.xlabel('Relative Importance')\n",
    "#plt.title('Variable Importance (first {0} variables)'.format(c))'''\n",
    "\n",
    "plt.show()"
   ]
  },
  {
   "cell_type": "markdown",
   "metadata": {},
   "source": [
    "#### As you can see towards the bottom adn the top of the quality scale, the distribution of the train and test datasets differs much more. It owuld be interesting to see the trends in other variables. If this is a consistent mismatch, we need to think on adjusting our algorithm , perhaps 'regularising' the variables, to give the right weight to each, at each part of the spectrum.  "
   ]
  },
  {
   "cell_type": "markdown",
   "metadata": {},
   "source": [
    "#### Output the predictions"
   ]
  },
  {
   "cell_type": "code",
   "execution_count": 45,
   "metadata": {
    "collapsed": false
   },
   "outputs": [
    {
     "name": "stdout",
     "output_type": "stream",
     "text": [
      "Done!\n"
     ]
    }
   ],
   "source": [
    "submission = test_diag[['Id', 'SalePrice']]\n",
    "print('Done!')\n",
    "submission.to_csv(\"submission_realestate_tawonque2.csv\", index=False)"
   ]
  },
  {
   "cell_type": "code",
   "execution_count": null,
   "metadata": {
    "collapsed": true
   },
   "outputs": [],
   "source": []
  }
 ],
 "metadata": {
  "anaconda-cloud": {},
  "kernelspec": {
   "display_name": "Python [default]",
   "language": "python",
   "name": "python3"
  },
  "language_info": {
   "codemirror_mode": {
    "name": "ipython",
    "version": 3
   },
   "file_extension": ".py",
   "mimetype": "text/x-python",
   "name": "python",
   "nbconvert_exporter": "python",
   "pygments_lexer": "ipython3",
   "version": "3.5.2"
  }
 },
 "nbformat": 4,
 "nbformat_minor": 0
}
